{
 "cells": [
  {
   "cell_type": "code",
   "execution_count": 1,
   "metadata": {},
   "outputs": [],
   "source": [
    "from datetime import datetime,date\n",
    "import time\n",
    "import calendar\n",
    "import re"
   ]
  },
  {
   "cell_type": "code",
   "execution_count": 1,
   "metadata": {},
   "outputs": [],
   "source": [
    "## 미미박스 크롤러에서 사용 "
   ]
  },
  {
   "cell_type": "code",
   "execution_count": 1,
   "metadata": {},
   "outputs": [],
   "source": [
    "pd_c_list={100:\"모공\",200:\"각질\",300:\"주름\",400:\"잡티\",500:\"건조함\",600:\"피부톤\",700:\"민감성\",800:\"트러블\",900:\"아토피\",1000:\"피지과다\"}\n",
    "pd_s_type={100:\"건성\",200:\"중성\",300:\"지성\",400:\"복합성\"}"
   ]
  },
  {
   "cell_type": "code",
   "execution_count": 2,
   "metadata": {},
   "outputs": [],
   "source": [
    "mm_score_dic ={\"\":0,\"half\":0.5,\"one\":1,\"oneHalf\":1.5,\"two\":2,\"twoHalf\":2.5,\"three\":3,\"threeHalf\":3.5,\"four\":4,\"fourHalf\":4.5,\"five\":5} \n",
    "    # 별점이 숫자가 아닌 텍스트로 되어있음. 텍스트에 대응되는 별점 딕셔너리"
   ]
  },
  {
   "cell_type": "code",
   "execution_count": 3,
   "metadata": {},
   "outputs": [],
   "source": [
    "# 별의 텍스트를 뽑아내는 함수  \n",
    "def mm_starnum(star):\n",
    "    first=0\n",
    "    second=0\n",
    "    for i in range(len(star)):\n",
    "        if star[i]==\"\\\"\":\n",
    "            if first==0:\n",
    "                first=i\n",
    "            else: \n",
    "                second=i\n",
    "    return star[first+1:second]"
   ]
  },
  {
   "cell_type": "code",
   "execution_count": 3,
   "metadata": {},
   "outputs": [],
   "source": [
    "# 날짜 텍스트를 변환해주는 함수\n",
    "def date_transfer(date_info):\n",
    "    \n",
    "    year=int(str(datetime.today())[:4]) # 오늘 년\n",
    "    month=int(str(datetime.today())[5:7]) # 오늘 월\n",
    "    day=int(str(datetime.today())[8:10]) # 오늘 일 \n",
    "    \n",
    "    if \"초 전\" in date_info or \"초전\" in date_info:\n",
    "        n_date=date(year,month,day)\n",
    "        n_date='{:%Y-%m-%d}'.format(n_date)\n",
    "    \n",
    "    elif \"분 전\" in date_info or \"분전\" in date_info:\n",
    "        n_date=date(year,month,day)\n",
    "        n_date='{:%Y-%m-%d}'.format(n_date)\n",
    "        \n",
    "    elif \"시간 전\" in date_info or \"시간전\" in date_info:\n",
    "        n_date=date(year,month,day)\n",
    "        n_date='{:%Y-%m-%d}'.format(n_date)\n",
    "\n",
    "    \n",
    "    elif \"일 전\" in date_info or \"일전\" in date_info:\n",
    "        d_day=int(re.sub(\"[^0-9]\",\"\",date_info))\n",
    "        if (day-d_day)>=1:\n",
    "            n_date=date(year,month,(day-d_day))\n",
    "            n_date='{:%Y-%m-%d}'.format(n_date)\n",
    "\n",
    "        else:\n",
    "            lastday=calendar.monthrange(year,month-1)[1]\n",
    "            temp=lastday-d_day\n",
    "            n_date=date(year,(month-1),(temp+day))\n",
    "            n_date='{:%Y-%m-%d}'.format(n_date)\n",
    "      \n",
    "\n",
    "    elif \"개월 전\" in date_info or \"개월전\" in date_info:\n",
    "        n_month=int(re.sub(\"[^0-9]\",\"\",date_info)) # 몇 달전 인지\n",
    "        \n",
    "        if (month-n_month)>=1:\n",
    "            n_date=date(year,(month-n_month),day)\n",
    "            n_date='{:%Y-%m-%d}'.format(n_date)\n",
    "\n",
    "        else:\n",
    "            temp=12-n_month\n",
    "            n_date=date(year,(temp+month),day)\n",
    "            n_date='{:%Y-%m-%d}'.format(n_date)\n",
    "\n",
    "    else:\n",
    "        n_date=date_info\n",
    "        \n",
    "    return n_date"
   ]
  },
  {
   "cell_type": "code",
   "execution_count": null,
   "metadata": {},
   "outputs": [],
   "source": []
  }
 ],
 "metadata": {
  "kernelspec": {
   "display_name": "Python 3",
   "language": "python",
   "name": "python3"
  },
  "language_info": {
   "codemirror_mode": {
    "name": "ipython",
    "version": 3
   },
   "file_extension": ".py",
   "mimetype": "text/x-python",
   "name": "python",
   "nbconvert_exporter": "python",
   "pygments_lexer": "ipython3",
   "version": "3.6.4"
  }
 },
 "nbformat": 4,
 "nbformat_minor": 2
}
