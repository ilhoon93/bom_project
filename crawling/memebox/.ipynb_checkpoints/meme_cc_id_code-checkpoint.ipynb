{
 "cells": [
  {
   "cell_type": "code",
   "execution_count": 1,
   "metadata": {},
   "outputs": [],
   "source": [
    "import pandas as pd\n",
    "from pandas import Series, DataFrame\n",
    "import re\n",
    "import numpy as np\n",
    "from requests import get\n",
    "from bs4 import BeautifulSoup as bs\n",
    "from selenium import webdriver"
   ]
  },
  {
   "cell_type": "code",
   "execution_count": 2,
   "metadata": {},
   "outputs": [],
   "source": [
    "headers = {'User-Agent':'Mozilla/5.0 (Windows NT 10.0; Win64; x64)'}"
   ]
  },
  {
   "cell_type": "code",
   "execution_count": 3,
   "metadata": {},
   "outputs": [
    {
     "name": "stderr",
     "output_type": "stream",
     "text": [
      "C:\\ProgramData\\Anaconda3\\lib\\site-packages\\selenium\\webdriver\\phantomjs\\webdriver.py:49: UserWarning: Selenium support for PhantomJS has been deprecated, please use headless versions of Chrome or Firefox instead\n",
      "  warnings.warn('Selenium support for PhantomJS has been deprecated, please use headless '\n"
     ]
    }
   ],
   "source": [
    "phantomJS_path = 'C:/Users/Ilhoon/Desktop/dev_util/phantomjs-2.1.1-windows/bin/phantomjs'\n",
    "driver = webdriver.PhantomJS(phantomJS_path)\n"
   ]
  },
  {
   "cell_type": "code",
   "execution_count": 4,
   "metadata": {},
   "outputs": [],
   "source": [
    "# 페이지 스크롤 8번 내리면서 페이지에 보이는 모든 제품 다 가져오기\n",
    "import time\n",
    "driver.get('http://www.memebox.com/category/733/review')\n",
    "i=0\n",
    "while i<3:\n",
    "    i = i+1\n",
    "    driver.execute_script(\"window.scrollTo(0, document.body.scrollHeight);\")\n",
    "    time.sleep(1)\n",
    "html = driver.page_source\n",
    "soup = bs(html, 'lxml')"
   ]
  },
  {
   "cell_type": "code",
   "execution_count": 5,
   "metadata": {},
   "outputs": [],
   "source": [
    "p_num = len(soup.select('#container > div.newDealContents > ul.dealList')) # 제품의 개수"
   ]
  },
  {
   "cell_type": "code",
   "execution_count": 6,
   "metadata": {},
   "outputs": [],
   "source": [
    "def starnum(star): # 별의 텍스트를 뽑아내는 함수\n",
    "    first=0\n",
    "    second=0\n",
    "    for i in range(len(star)):\n",
    "        if star[i]==\"\\\"\":\n",
    "            if first==0:\n",
    "                first=i\n",
    "            else: \n",
    "                second=i\n",
    "    return star[first+1:second]"
   ]
  },
  {
   "cell_type": "code",
   "execution_count": 7,
   "metadata": {},
   "outputs": [],
   "source": [
    "item_id=[]\n",
    "item_name=[]\n",
    "item_brand=[]\n",
    "item_score=[]\n",
    "num_of_reviews=[]"
   ]
  },
  {
   "cell_type": "code",
   "execution_count": 8,
   "metadata": {},
   "outputs": [],
   "source": [
    "score_dic ={\"\":0,\"one\":1,\"oneHalf\":1.5,\"two\":2,\"twoHalf\":2.5,\"three\":3,\"threeHalf\":3.5,\"four\":4,\"fourHalf\":4.5,\"five\":5} \n",
    "# 텍스트에 대응되는 별점 딕셔너리로 저장"
   ]
  },
  {
   "cell_type": "code",
   "execution_count": 9,
   "metadata": {},
   "outputs": [],
   "source": [
    "#리뷰가 하나도 없는 것을 어떻게 처리할 것인가.\n",
    "for item in soup.select(\"#container > div.newDealContents > ul.dealList\")[0].find_all('li'):\n",
    "    if item.select(\"span > a > div.dealBottom > div.dealhead\")[0].select('div') == \"\":\n",
    "        print(item.get(\"data-product-name\"))"
   ]
  },
  {
   "cell_type": "code",
   "execution_count": 10,
   "metadata": {},
   "outputs": [],
   "source": [
    "for i in range(len(soup.select(\"#container > div.newDealContents > ul.dealList\"))):\n",
    "    for item in soup.select(\"#container > div.newDealContents > ul.dealList\")[i].find_all('li'):\n",
    "        if '4월' not in item.get(\"data-product-name\"):\n",
    "            try:\n",
    "                num_of_reviews.append(item.select(\"span > a > div.dealBottom > div.dealhead > div.starBox > span.amount\")[0].text[1:-1]) # 총 리뷰 개수\n",
    "                    # 리뷰가 하나도 없는 제품에 대해서 에러. \n",
    "                item_id.append(item.get(\"data-product-id\"))\n",
    "                item_name.append(item.get(\"data-product-name\"))\n",
    "                item_brand.append(item.get(\"data-product-brand\"))\n",
    "                item_score.append(score_dic[starnum(str(item.select(\"span > a > div.dealBottom > div.dealhead > div.starBox > span > em\")))]) # 별점 평균\n",
    "            except:\n",
    "                continue"
   ]
  },
  {
   "cell_type": "code",
   "execution_count": 11,
   "metadata": {},
   "outputs": [
    {
     "data": {
      "text/html": [
       "<div>\n",
       "<style scoped>\n",
       "    .dataframe tbody tr th:only-of-type {\n",
       "        vertical-align: middle;\n",
       "    }\n",
       "\n",
       "    .dataframe tbody tr th {\n",
       "        vertical-align: top;\n",
       "    }\n",
       "\n",
       "    .dataframe thead th {\n",
       "        text-align: right;\n",
       "    }\n",
       "</style>\n",
       "<table border=\"1\" class=\"dataframe\">\n",
       "  <thead>\n",
       "    <tr style=\"text-align: right;\">\n",
       "      <th></th>\n",
       "      <th>item_id</th>\n",
       "      <th>item_brand</th>\n",
       "      <th>item_name</th>\n",
       "      <th>num_of_reviews</th>\n",
       "      <th>item_score</th>\n",
       "    </tr>\n",
       "  </thead>\n",
       "  <tbody>\n",
       "    <tr>\n",
       "      <th>0</th>\n",
       "      <td>511587</td>\n",
       "      <td>프레티</td>\n",
       "      <td>[프레티] 퓨어 화이트 밀크 크림 2종</td>\n",
       "      <td>313</td>\n",
       "      <td>4.5</td>\n",
       "    </tr>\n",
       "    <tr>\n",
       "      <th>1</th>\n",
       "      <td>21337</td>\n",
       "      <td>바닐라코</td>\n",
       "      <td>[바닐라코] 잇 래디언트 CC 2종</td>\n",
       "      <td>180</td>\n",
       "      <td>5.0</td>\n",
       "    </tr>\n",
       "    <tr>\n",
       "      <th>2</th>\n",
       "      <td>525511</td>\n",
       "      <td>미바</td>\n",
       "      <td>[미바] 비비크림</td>\n",
       "      <td>26</td>\n",
       "      <td>4.5</td>\n",
       "    </tr>\n",
       "    <tr>\n",
       "      <th>3</th>\n",
       "      <td>7221</td>\n",
       "      <td>리리코스 마린에너지</td>\n",
       "      <td>[리리코스] 마린 CC크림</td>\n",
       "      <td>25</td>\n",
       "      <td>4.5</td>\n",
       "    </tr>\n",
       "    <tr>\n",
       "      <th>4</th>\n",
       "      <td>511420</td>\n",
       "      <td>스위스퓨어</td>\n",
       "      <td>[스위스퓨어] 톤업크림/커버크림/수딩크림</td>\n",
       "      <td>22</td>\n",
       "      <td>4.5</td>\n",
       "    </tr>\n",
       "    <tr>\n",
       "      <th>5</th>\n",
       "      <td>36472</td>\n",
       "      <td>컬러랩</td>\n",
       "      <td>[컬러랩] 우유 톤업 크림</td>\n",
       "      <td>8</td>\n",
       "      <td>4.5</td>\n",
       "    </tr>\n",
       "    <tr>\n",
       "      <th>6</th>\n",
       "      <td>513565</td>\n",
       "      <td>언파</td>\n",
       "      <td>[언파] 피치미업 톤업 크림 2종</td>\n",
       "      <td>7</td>\n",
       "      <td>5.0</td>\n",
       "    </tr>\n",
       "    <tr>\n",
       "      <th>7</th>\n",
       "      <td>36229</td>\n",
       "      <td>더블유랩</td>\n",
       "      <td>[더블유랩] 복숭아 크림</td>\n",
       "      <td>7</td>\n",
       "      <td>4.0</td>\n",
       "    </tr>\n",
       "    <tr>\n",
       "      <th>8</th>\n",
       "      <td>508851</td>\n",
       "      <td>에뛰드하우스</td>\n",
       "      <td>[에뛰드] 애니 쿠션 컬러 코렉터 8종</td>\n",
       "      <td>6</td>\n",
       "      <td>4.5</td>\n",
       "    </tr>\n",
       "    <tr>\n",
       "      <th>9</th>\n",
       "      <td>29143</td>\n",
       "      <td>아이오페</td>\n",
       "      <td>[아이오페] CC크림 2종</td>\n",
       "      <td>2</td>\n",
       "      <td>5.0</td>\n",
       "    </tr>\n",
       "    <tr>\n",
       "      <th>10</th>\n",
       "      <td>524691</td>\n",
       "      <td>페리페라</td>\n",
       "      <td>[페리페라] 잉크 뽀얀 스킨틴트 4종</td>\n",
       "      <td>2</td>\n",
       "      <td>4.5</td>\n",
       "    </tr>\n",
       "    <tr>\n",
       "      <th>11</th>\n",
       "      <td>517407</td>\n",
       "      <td>샤넬</td>\n",
       "      <td>[샤넬] CC 크림 SPF 50 30ml 2종</td>\n",
       "      <td>1</td>\n",
       "      <td>5.0</td>\n",
       "    </tr>\n",
       "    <tr>\n",
       "      <th>12</th>\n",
       "      <td>514158</td>\n",
       "      <td>투쿨포스쿨</td>\n",
       "      <td>[투쿨포스쿨] 다이노플라츠 시네마 시티</td>\n",
       "      <td>1</td>\n",
       "      <td>5.0</td>\n",
       "    </tr>\n",
       "    <tr>\n",
       "      <th>13</th>\n",
       "      <td>512435</td>\n",
       "      <td>듀이트리</td>\n",
       "      <td>[듀이트리] 더마미네랄 메이크업 4종</td>\n",
       "      <td>1</td>\n",
       "      <td>5.0</td>\n",
       "    </tr>\n",
       "  </tbody>\n",
       "</table>\n",
       "</div>"
      ],
      "text/plain": [
       "   item_id  item_brand                  item_name num_of_reviews  item_score\n",
       "0   511587         프레티      [프레티] 퓨어 화이트 밀크 크림 2종            313         4.5\n",
       "1    21337        바닐라코        [바닐라코] 잇 래디언트 CC 2종            180         5.0\n",
       "2   525511          미바                 [미바] 비비크림              26         4.5\n",
       "3     7221  리리코스 마린에너지             [리리코스] 마린 CC크림             25         4.5\n",
       "4   511420       스위스퓨어     [스위스퓨어] 톤업크림/커버크림/수딩크림             22         4.5\n",
       "5    36472         컬러랩             [컬러랩] 우유 톤업 크림              8         4.5\n",
       "6   513565          언파         [언파] 피치미업 톤업 크림 2종              7         5.0\n",
       "7    36229        더블유랩              [더블유랩] 복숭아 크림              7         4.0\n",
       "8   508851      에뛰드하우스      [에뛰드] 애니 쿠션 컬러 코렉터 8종              6         4.5\n",
       "9    29143        아이오페             [아이오페] CC크림 2종              2         5.0\n",
       "10  524691        페리페라       [페리페라] 잉크 뽀얀 스킨틴트 4종              2         4.5\n",
       "11  517407          샤넬  [샤넬] CC 크림 SPF 50 30ml 2종              1         5.0\n",
       "12  514158       투쿨포스쿨     [투쿨포스쿨] 다이노플라츠 시네마 시티               1         5.0\n",
       "13  512435        듀이트리       [듀이트리] 더마미네랄 메이크업 4종              1         5.0"
      ]
     },
     "execution_count": 11,
     "metadata": {},
     "output_type": "execute_result"
    }
   ],
   "source": [
    "data ={'item_id':item_id,\n",
    "      'item_name':item_name,\n",
    "      'item_brand':item_brand,\n",
    "      'num_of_reviews':num_of_reviews,\n",
    "      'item_score':item_score}\n",
    "meme_cc_id=DataFrame(data)\n",
    "meme_cc_id=DataFrame(data, columns=[\"item_id\",'item_brand','item_name','num_of_reviews','item_score'])\n",
    "meme_cc_id"
   ]
  },
  {
   "cell_type": "code",
   "execution_count": 13,
   "metadata": {},
   "outputs": [],
   "source": [
    "meme_cc_id.to_csv('meme_cc_id.csv',sep=\",\", encoding=\"UTF-8\")"
   ]
  },
  {
   "cell_type": "code",
   "execution_count": null,
   "metadata": {},
   "outputs": [],
   "source": []
  }
 ],
 "metadata": {
  "kernelspec": {
   "display_name": "Python 3",
   "language": "python",
   "name": "python3"
  },
  "language_info": {
   "codemirror_mode": {
    "name": "ipython",
    "version": 3
   },
   "file_extension": ".py",
   "mimetype": "text/x-python",
   "name": "python",
   "nbconvert_exporter": "python",
   "pygments_lexer": "ipython3",
   "version": "3.6.4"
  }
 },
 "nbformat": 4,
 "nbformat_minor": 2
}
