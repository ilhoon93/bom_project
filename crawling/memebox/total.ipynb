{
 "cells": [
  {
   "cell_type": "code",
   "execution_count": 2,
   "metadata": {},
   "outputs": [],
   "source": [
    "import sys\n",
    "import pandas as pd\n",
    "from pandas import Series, DataFrame\n",
    "import re\n",
    "import numpy as np\n",
    "from requests import get\n",
    "from bs4 import BeautifulSoup as bs\n",
    "from selenium import webdriver\n",
    "from datetime import date,timedelta\n",
    "import time\n",
    "import calendar\n",
    "import math\n",
    "from mod import * # 내가 만든 모듈 "
   ]
  },
  {
   "cell_type": "code",
   "execution_count": 3,
   "metadata": {},
   "outputs": [],
   "source": [
    "meme_id = pd.read_csv('C:/Users/Ilhoon/Anaconda_project/ebiz_CAPSTONE/crawling/memebox/meme_id.csv')\n",
    "gl_id = pd.read_csv('C:/Users/Ilhoon/Anaconda_project/ebiz_CAPSTONE/crawling/glowpick/gl_id.csv')\n",
    "pod_id = pd.read_csv('C:/Users/Ilhoon/Anaconda_project/ebiz_CAPSTONE/crawling/powderroom/pod_id.csv')\n",
    "del meme_id[\"Unnamed: 0\"]"
   ]
  },
  {
   "cell_type": "code",
   "execution_count": 6,
   "metadata": {},
   "outputs": [
    {
     "name": "stdout",
     "output_type": "stream",
     "text": [
      "a\n"
     ]
    }
   ],
   "source": []
  }
 ],
 "metadata": {
  "kernelspec": {
   "display_name": "Python 3",
   "language": "python",
   "name": "python3"
  },
  "language_info": {
   "codemirror_mode": {
    "name": "ipython",
    "version": 3
   },
   "file_extension": ".py",
   "mimetype": "text/x-python",
   "name": "python",
   "nbconvert_exporter": "python",
   "pygments_lexer": "ipython3",
   "version": "3.6.4"
  }
 },
 "nbformat": 4,
 "nbformat_minor": 2
}
