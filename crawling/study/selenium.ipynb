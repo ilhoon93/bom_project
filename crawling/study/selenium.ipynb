{
 "cells": [
  {
   "cell_type": "code",
   "execution_count": 10,
   "metadata": {},
   "outputs": [],
   "source": [
    "from selenium import webdriver\n",
    "from bs4 import BeautifulSoup as bs"
   ]
  },
  {
   "cell_type": "code",
   "execution_count": 4,
   "metadata": {},
   "outputs": [],
   "source": [
    "driver = webdriver.Chrome('C:/Users/Ilhoon/desktop/chromedriver_win32/chromedriver')\n",
    "driver.get('https://google.com')\n",
    "    # get : url에 접근 \n",
    "    # 페이지의 단일 element에 접근\n",
    "        # find_element_by_name\n",
    "        # find_element_by_id\n",
    "        # find_element_by_xpath\n",
    "    # 페이지의 여러 elements에 접근\n",
    "        # find_element_by_css_selector\n",
    "        # find_element_by_class_name('some_class_name')\n",
    "        # find_element_by_tag_name('h1')\n",
    "        \n",
    "    # HTML을 브라우저에서 파싱해주기 때문에 굳이 BeautifulSoup를 사용하지 않아도 된다. \n",
    "    # driver.page_source 를 사용하면 페이지의 elements를 모두 가져올 수 있다. "
   ]
  },
  {
   "cell_type": "code",
   "execution_count": 13,
   "metadata": {},
   "outputs": [
    {
     "name": "stdout",
     "output_type": "stream",
     "text": [
      "LG전자 15U480-GA56K키스킨/키커버/노트북키스킨\n",
      "샌디스크 USB 메모리\n",
      "2주 만에 끝내는 해커스 토익스피킹 Start / 해커스 토익스피킹 Level 7.8 / 2권세트 선택구매\n",
      "★핫딜★[예다움] 모던엔틱 접이식교자상 6종 모음전 /대한민국 최고 특가\n",
      "02. 삼천리 5구 울트라 후미등\n",
      "01. 삼천리 5구라이트\n",
      "07. 안장커버 하이브리드형\n",
      "00. 95%조립요청\n",
      "2017년형 클래식 하이브리드 2017년 반티아고 G21 外\n",
      "[러쉬] 컴포터 200g 버블바\n",
      "2017년 프랭클린 플래너 캐주얼 다이어리 전제품\n",
      "[러쉬] 컴포터 200g 버블바\n",
      "라이징테크 바비온 바리깡 SBC-650 티타늄 이발기 클리퍼 프로바리깡 전문가용이발기 LED배터리 표시등 4단계 날 높이조절 급속충전 이발기\n",
      "[MS] EFM 네트웍스 ipTIME N704BCM\n",
      "2016 시나공 컴퓨터활용능력 1급 실기 기본서\n"
     ]
    }
   ],
   "source": [
    "driver = webdriver.Chrome('C:/Users/Ilhoon/desktop/chromedriver_win32/chromedriver')\n",
    "driver.get('https://nid.naver.com/nidlogin.login')\n",
    "\n",
    "driver.find_element_by_name('id').send_keys('kohkhj902')\n",
    "driver.find_element_by_name('pw').send_keys('dlfgns00!@')\n",
    "# 로그인 경로 \n",
    "driver.find_element_by_xpath('//*[@id=\"frmNIDLogin\"]/fieldset/input').click()\n",
    "\n",
    "driver.get('https://order.pay.naver.com/home')\n",
    "html = driver.page_source\n",
    "soup = bs(html, 'html.parser')\n",
    "notices = soup.select('div.p_inr > div.p_info > a > span')\n",
    "\n",
    "for n in notices:\n",
    "    print(n.text.strip())"
   ]
  },
  {
   "cell_type": "code",
   "execution_count": null,
   "metadata": {},
   "outputs": [],
   "source": []
  }
 ],
 "metadata": {
  "kernelspec": {
   "display_name": "Python 3",
   "language": "python",
   "name": "python3"
  },
  "language_info": {
   "codemirror_mode": {
    "name": "ipython",
    "version": 3
   },
   "file_extension": ".py",
   "mimetype": "text/x-python",
   "name": "python",
   "nbconvert_exporter": "python",
   "pygments_lexer": "ipython3",
   "version": "3.6.4"
  }
 },
 "nbformat": 4,
 "nbformat_minor": 2
}
