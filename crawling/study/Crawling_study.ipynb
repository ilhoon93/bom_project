{
 "cells": [
  {
   "cell_type": "markdown",
   "metadata": {},
   "source": [
    "## Lv 2. Ajax 렌더링 크롤링"
   ]
  },
  {
   "cell_type": "code",
   "execution_count": 1,
   "metadata": {},
   "outputs": [],
   "source": [
    "import sys\n",
    "import os"
   ]
  },
  {
   "cell_type": "code",
   "execution_count": 10,
   "metadata": {},
   "outputs": [],
   "source": [
    "from requests import get\n",
    "from bs4 import BeautifulSoup as bs\n",
    "import pandas as pd"
   ]
  },
  {
   "cell_type": "code",
   "execution_count": 2,
   "metadata": {},
   "outputs": [],
   "source": [
    "headers = {'User-Agent':'Mozilla/5.0 (Windows NT 10.0; Win64; x64)'}"
   ]
  },
  {
   "cell_type": "code",
   "execution_count": 4,
   "metadata": {},
   "outputs": [],
   "source": [
    "url = 'https://askdjango.github.io/lv2/'\n",
    "html = get(url,headers=headers).text\n",
    "soup = bs(html, 'html.parser')"
   ]
  },
  {
   "cell_type": "code",
   "execution_count": 7,
   "metadata": {},
   "outputs": [
    {
     "name": "stdout",
     "output_type": "stream",
     "text": [
      "<!DOCTYPE doctype html>\n",
      "\n",
      "<html lang=\"ko\">\n",
      "<head>\n",
      "<meta charset=\"utf-8\"/>\n",
      "<title>[레벨2] Ajax 렌더링 크롤링</title>\n",
      "<style>\n",
      "#logo {\n",
      "    max-width: 100%;\n",
      "}\n",
      "</style>\n",
      "<script src=\"https://code.jquery.com/jquery-2.2.4.min.js\"></script>\n",
      "<script>\n",
      "$(function() {\n",
      "    $.get(\"data.json\").done(function(data) {\n",
      "        $.each(data, function(idx, course) {\n",
      "            var html = '<li class=\"course\"><a href=\"' + course.url + '\">' + course.name + '</a></li>';\n",
      "            $('#course_list').append($(html));\n",
      "        });\n",
      "    });\n",
      "});\n",
      "</script>\n",
      "</head>\n",
      "<body>\n",
      "<h1>AskDjango VOD</h1>\n",
      "<h2>[레벨2] Ajax 렌더링 크롤링</h2>\n",
      "<p>본 페이지는 Ajax를 통해 데이터를 받아와서, 자바스크립트로 컨텐츠가 추가됩니다.</p>\n",
      "<ul id=\"course_list\">\n",
      "</ul>\n",
      "<img id=\"logo\" src=\"https://nomade.kr/static/2017031408/nomadekr-og.jpg\"/>\n",
      "<hr/>\n",
      "<h3>미션</h3>\n",
      "<ul>\n",
      "<li>위 VOD 코스의 코스명과 URL을 크롤링</li>\n",
      "<li>제약사항 : requests 라이브러리만을 사용하세요.</li>\n",
      "</ul>\n",
      "\n",
      "실행 예시\n",
      "\n",
      "<pre>\n",
      "    개발환경 구축하기 https://nomade.kr/vod/setup/\n",
      "    파이썬 차근차근 시작하기 https://nomade.kr/vod/python/\n",
      "    크롤링 차근차근 시작하기 https://nomade.kr/vod/crawling/\n",
      "    파이썬으로 업무 자동화 https://nomade.kr/vod/automation/\n",
      "    장고 - 기본편 https://nomade.kr/vod/django/\n",
      "    장고걸스 튜토리얼 https://nomade.kr/vod/djangogirls/\n",
      "    장고 - Form/ModelForm 잘 알고 쓰기 https://nomade.kr/vod/form/\n",
      "    장고 - 클래스 기반 뷰. 잘 알고 쓰기 https://nomade.kr/vod/cbv/\n",
      "    장고 - 결제 시스템 연동 https://nomade.kr/vod/payment/\n",
      "    장고 - 웹 프론트엔드 시작편 https://nomade.kr/vod/frontend/\n",
      "    장고 - 다양한 위젯 만들기 https://nomade.kr/vod/widgets/\n",
      "    장고 - API 서버 만들기 및 초간단 안드로이드 앱 만들기 https://nomade.kr/vod/apiserver/\n",
      "    장고 - 하이브리드 앱 만들기 https://nomade.kr/vod/hybrid/\n",
      "    장고 - 서비스 배포하기 https://nomade.kr/vod/deploy/\n",
      "    장고 - 실전편 (Feat. 배달의 민족 St. 만들기) https://nomade.kr/vod/django-baemin/\n",
      "    장고 - 실전편 (Feat. 인스타그램 St. 만들기) https://nomade.kr/vod/django-instagram/\n",
      "</pre>\n",
      "<p>AskDjango 크롤링 VOD를 통해 크롤링의 기본을 배우고, 꾸준히 크롤링을 연습해보세요.</p>\n",
      "<hr/>\n",
      "<p><a href=\"/\">home</a></p>\n",
      "<p>\n",
      "    여러분의 파이썬/장고 페이스메이커가 되겠습니다. &amp;dash; <a href=\"https://nomade.kr/vod/\">AskDjango VOD</a>\n",
      "</p>\n",
      "<p>\n",
      "    ©\n",
      "    <script>document.write((new Date()).getYear() + 1900);</script>\n",
      "    SHAKEADE\n",
      "</p>\n",
      "</body>\n",
      "</html>\n",
      "\n"
     ]
    }
   ],
   "source": [
    "# 내가 크롤링 하고자 하는 li 태그와 텍스트 soup에 들어있지 않다.\n",
    "print(soup)"
   ]
  },
  {
   "cell_type": "markdown",
   "metadata": {},
   "source": [
    "F12 네트워크 탭에 들어가서 - 새로고침 \n",
    "\n",
    "서버에 응답하는 목록들을 볼 수 있다. \n",
    "\n",
    "눌러서 preview 확인해보면 data.json 파일이 내가 원하는 파일임을 확인 \n",
    "\n",
    "Headers를 클릭하면 응답 url을 볼 수 있다. 이 url로 크롤링 해보자"
   ]
  },
  {
   "cell_type": "code",
   "execution_count": 14,
   "metadata": {},
   "outputs": [],
   "source": [
    "import json # json파일을 받아오기 위해 json을 import\n",
    "import requests"
   ]
  },
  {
   "cell_type": "code",
   "execution_count": 15,
   "metadata": {},
   "outputs": [],
   "source": [
    "json_url = 'https://askdjango.github.io/lv2/data.json'\n",
    "json_string = requests.get(json_url).text\n",
    "    # url을 string으로 변환"
   ]
  },
  {
   "cell_type": "code",
   "execution_count": 19,
   "metadata": {},
   "outputs": [],
   "source": [
    "data_list = json.loads(json_string)\n",
    "    # json 모듈을 사용해서 data_list라는 곳에 저장"
   ]
  },
  {
   "cell_type": "code",
   "execution_count": 18,
   "metadata": {},
   "outputs": [
    {
     "name": "stdout",
     "output_type": "stream",
     "text": [
      "[{'name': '개발환경 구축하기', 'url': 'https://nomade.kr/vod/setup/'}, {'name': '파이썬 차근차근 시작하기', 'url': 'https://nomade.kr/vod/python/'}, {'name': '크롤링 차근차근 시작하기', 'url': 'https://nomade.kr/vod/crawling/'}, {'name': '파이썬으로 업무 자동화', 'url': 'https://nomade.kr/vod/automation/'}, {'name': '장고 - 기본편', 'url': 'https://nomade.kr/vod/django/'}, {'name': '장고걸스 튜토리얼', 'url': 'https://nomade.kr/vod/djangogirls/'}, {'name': '장고 - Form/ModelForm 잘 알고 쓰기', 'url': 'https://nomade.kr/vod/form/'}, {'name': '장고 - 클래스 기반 뷰. 잘 알고 쓰기', 'url': 'https://nomade.kr/vod/cbv/'}, {'name': '장고 - 결제 시스템 연동', 'url': 'https://nomade.kr/vod/payment/'}, {'name': '장고 - 웹 프론트엔드 시작편', 'url': 'https://nomade.kr/vod/frontend/'}, {'name': '장고 - 다양한 위젯 만들기', 'url': 'https://nomade.kr/vod/widgets/'}, {'name': '장고 - API 서버 만들기 및 초간단 안드로이드 앱 만들기', 'url': 'https://nomade.kr/vod/apiserver/'}, {'name': '장고 - 하이브리드 앱 만들기', 'url': 'https://nomade.kr/vod/hybrid/'}, {'name': '장고 - 서비스 배포하기', 'url': 'https://nomade.kr/vod/deploy/'}, {'name': '장고 - 실전편 (Feat. 배달의 민족 St. 만들기)', 'url': 'https://nomade.kr/vod/django-baemin/'}, {'name': '장고 - 실전편 (Feat. 인스타그램 St. 만들기)', 'url': 'https://nomade.kr/vod/django-instagram/'}]\n"
     ]
    }
   ],
   "source": [
    "print(data_list) "
   ]
  },
  {
   "cell_type": "code",
   "execution_count": 22,
   "metadata": {},
   "outputs": [
    {
     "name": "stdout",
     "output_type": "stream",
     "text": [
      "개발환경 구축하기 https://nomade.kr/vod/setup/\n",
      "파이썬 차근차근 시작하기 https://nomade.kr/vod/python/\n",
      "크롤링 차근차근 시작하기 https://nomade.kr/vod/crawling/\n",
      "파이썬으로 업무 자동화 https://nomade.kr/vod/automation/\n",
      "장고 - 기본편 https://nomade.kr/vod/django/\n",
      "장고걸스 튜토리얼 https://nomade.kr/vod/djangogirls/\n",
      "장고 - Form/ModelForm 잘 알고 쓰기 https://nomade.kr/vod/form/\n",
      "장고 - 클래스 기반 뷰. 잘 알고 쓰기 https://nomade.kr/vod/cbv/\n",
      "장고 - 결제 시스템 연동 https://nomade.kr/vod/payment/\n",
      "장고 - 웹 프론트엔드 시작편 https://nomade.kr/vod/frontend/\n",
      "장고 - 다양한 위젯 만들기 https://nomade.kr/vod/widgets/\n",
      "장고 - API 서버 만들기 및 초간단 안드로이드 앱 만들기 https://nomade.kr/vod/apiserver/\n",
      "장고 - 하이브리드 앱 만들기 https://nomade.kr/vod/hybrid/\n",
      "장고 - 서비스 배포하기 https://nomade.kr/vod/deploy/\n",
      "장고 - 실전편 (Feat. 배달의 민족 St. 만들기) https://nomade.kr/vod/django-baemin/\n",
      "장고 - 실전편 (Feat. 인스타그램 St. 만들기) https://nomade.kr/vod/django-instagram/\n"
     ]
    }
   ],
   "source": [
    "for data in data_list:\n",
    "    print(data['name'], data['url'])"
   ]
  },
  {
   "cell_type": "markdown",
   "metadata": {},
   "source": [
    "# Lv 3. 자바스크립트 렌더링 크롤링"
   ]
  },
  {
   "cell_type": "code",
   "execution_count": 27,
   "metadata": {},
   "outputs": [
    {
     "name": "stdout",
     "output_type": "stream",
     "text": [
      "<!doctype html>\n",
      "<html lang=\"ko\">\n",
      "<head>\n",
      "<meta charset=\"utf-8\" />\n",
      "<title>[레벨3] 자바스크립트 렌더링 크롤링</title>\n",
      "<style>\n",
      "#logo {\n",
      "    max-width: 100%;\n",
      "}\n",
      "</style>\n",
      "<script src=\"https://code.jquery.com/jquery-2.2.4.min.js\"></script>\n",
      "<script>\n",
      "$(function() {\n",
      "    var courses = [\n",
      "        {\"name\": \"개발환경 구축하기\", \"url\": \"https://nomade.kr/vod/setup/\"},\n",
      "        {\"name\": \"파이썬 차근차근 시작하기\", \"url\": \"https://nomade.kr/vod/python/\"},\n",
      "        {\"name\": \"크롤링 차근차근 시작하기\", \"url\": \"https://nomade.kr/vod/crawling/\"},\n",
      "        {\"name\": \"파이썬으로 업무 자동화\", \"url\": \"https://nomade.kr/vod/automation/\"},\n",
      "        {\"name\": \"장고 - 기본편\", \"url\": \"https://nomade.kr/vod/django/\"},\n",
      "        {\"name\": \"장고걸스 튜토리얼\", \"url\": \"https://nomade.kr/vod/djangogirls/\"},\n",
      "        {\"name\": \"장고 - Form/ModelForm 잘 알고 쓰기\", \"url\": \"https://nomade.kr/vod/form/\"},\n",
      "        {\"name\": \"장고 - 클래스 기반 뷰. 잘 알고 쓰기\", \"url\": \"https://nomade.kr/vod/cbv/\"},\n",
      "        {\"name\": \"장고 - 결제 시스템 연동\", \"url\": \"https://nomade.kr/vod/payment/\"},\n",
      "        {\"name\": \"장고 - 웹 프론트엔드 시작편\", \"url\": \"https://nomade.kr/vod/frontend/\"},\n",
      "        {\"name\": \"장고 - 다양한 위젯 만들기\", \"url\": \"https://nomade.kr/vod/widgets/\"},\n",
      "        {\"name\": \"장고 - API 서버 만들기 및 초간단 안드로이드 앱 만들기\", \"url\": \"https://nomade.kr/vod/apiserver/\"},\n",
      "        {\"name\": \"장고 - 하이브리드 앱 만들기\", \"url\": \"https://nomade.kr/vod/hybrid/\"},\n",
      "        {\"name\": \"장고 - 서비스 배포하기\", \"url\": \"https://nomade.kr/vod/deploy/\"},\n",
      "        {\"name\": \"장고 - 실전편 (Feat. 배달의 민족 St. 만들기)\", \"url\": \"https://nomade.kr/vod/django-baemin/\"},\n",
      "        {\"name\": \"장고 - 실전편 (Feat. 인스타그램 St. 만들기)\", \"url\": \"https://nomade.kr/vod/django-instagram/\"}\n",
      "    ];\n",
      "    $.each(courses, function(idx, course) {\n",
      "        var html = '<li class=\"course\"><a href=\"' + course.url + '\">' + course.name + '</a></li>';\n",
      "        $('#course_list').append($(html));\n",
      "    });\n",
      "});\n",
      "</script>\n",
      "</head>\n",
      "<body>\n",
      "<h1>AskDjango VOD</h1>\n",
      "\n",
      "<h2>[레벨3] 자바스크립트 렌더링 크롤링</h2>\n",
      "\n",
      "<p>본 페이지는 Ajax를 통해 데이터를 받아와서, 자바스크립트로 컨텐츠가 추가됩니다.</p>\n",
      "\n",
      "<ul id=\"course_list\">\n",
      "</ul>\n",
      "\n",
      "<img src=\"https://nomade.kr/static/2017031408/nomadekr-og.jpg\" id=\"logo\" />\n",
      "\n",
      "<hr/>\n",
      "\n",
      "<h3>미션</h3>\n",
      "\n",
      "<ul>\n",
      "    <li>위 VOD 코스의 코스명과 URL을 크롤링</li>\n",
      "    <li>제약사항 : requests 라이브러리만을 사용하세요.</li>\n",
      "</ul>\n",
      "\n",
      "실행 예시\n",
      "\n",
      "<pre>\n",
      "    개발환경 구축하기 https://nomade.kr/vod/setup/\n",
      "    파이썬 차근차근 시작하기 https://nomade.kr/vod/python/\n",
      "    크롤링 차근차근 시작하기 https://nomade.kr/vod/crawling/\n",
      "    파이썬으로 업무 자동화 https://nomade.kr/vod/automation/\n",
      "    장고 - 기본편 https://nomade.kr/vod/django/\n",
      "    장고걸스 튜토리얼 https://nomade.kr/vod/djangogirls/\n",
      "    장고 - Form/ModelForm 잘 알고 쓰기 https://nomade.kr/vod/form/\n",
      "    장고 - 클래스 기반 뷰. 잘 알고 쓰기 https://nomade.kr/vod/cbv/\n",
      "    장고 - 결제 시스템 연동 https://nomade.kr/vod/payment/\n",
      "    장고 - 웹 프론트엔드 시작편 https://nomade.kr/vod/frontend/\n",
      "    장고 - 다양한 위젯 만들기 https://nomade.kr/vod/widgets/\n",
      "    장고 - API 서버 만들기 및 초간단 안드로이드 앱 만들기 https://nomade.kr/vod/apiserver/\n",
      "    장고 - 하이브리드 앱 만들기 https://nomade.kr/vod/hybrid/\n",
      "    장고 - 서비스 배포하기 https://nomade.kr/vod/deploy/\n",
      "    장고 - 실전편 (Feat. 배달의 민족 St. 만들기) https://nomade.kr/vod/django-baemin/\n",
      "    장고 - 실전편 (Feat. 인스타그램 St. 만들기) https://nomade.kr/vod/django-instagram/\n",
      "</pre>\n",
      "\n",
      "<p>AskDjango 크롤링 VOD를 통해 크롤링의 기본을 배우고, 꾸준히 크롤링을 연습해보세요.</p>\n",
      "\n",
      "<hr/>\n",
      "    <p><a href=\"/\">home</a></p>\n",
      "    <p>\n",
      "    여러분의 파이썬/장고 페이스메이커가 되겠습니다. &dash; <a href=\"https://nomade.kr/vod/\">AskDjango VOD</a>\n",
      "    </p>\n",
      "    <p>\n",
      "    &copy;\n",
      "    <script>document.write((new Date()).getYear() + 1900);</script>\n",
      "    SHAKEADE\n",
      "</p>\n",
      "</body>\n",
      "</html>\n",
      "\n"
     ]
    }
   ],
   "source": [
    "url = 'https://askdjango.github.io/lv3/'\n",
    "html = get(url).text\n",
    "print(html)"
   ]
  },
  {
   "cell_type": "code",
   "execution_count": 31,
   "metadata": {},
   "outputs": [
    {
     "data": {
      "text/plain": [
       "<_sre.SRE_Match object; span=(245, 3294), match='var courses = [\\n        {\"name\": \"개발환경 구축하기\", \"u>"
      ]
     },
     "execution_count": 31,
     "metadata": {},
     "output_type": "execute_result"
    }
   ],
   "source": [
    "import re\n",
    "re.search(r'var courses = (.*);', html,re.S) \n",
    "    # var courses로 시작하는 html안의 모든 문자열 뽑아내기\n",
    "    # text파일에서 뽑아오기 위해 html텍스트 그대로 사용 \n",
    "    # re.S 를 이용해서 개행을 인식\n"
   ]
  },
  {
   "cell_type": "code",
   "execution_count": 33,
   "metadata": {},
   "outputs": [
    {
     "name": "stdout",
     "output_type": "stream",
     "text": [
      "[\n",
      "        {\"name\": \"개발환경 구축하기\", \"url\": \"https://nomade.kr/vod/setup/\"},\n",
      "        {\"name\": \"파이썬 차근차근 시작하기\", \"url\": \"https://nomade.kr/vod/python/\"},\n",
      "        {\"name\": \"크롤링 차근차근 시작하기\", \"url\": \"https://nomade.kr/vod/crawling/\"},\n",
      "        {\"name\": \"파이썬으로 업무 자동화\", \"url\": \"https://nomade.kr/vod/automation/\"},\n",
      "        {\"name\": \"장고 - 기본편\", \"url\": \"https://nomade.kr/vod/django/\"},\n",
      "        {\"name\": \"장고걸스 튜토리얼\", \"url\": \"https://nomade.kr/vod/djangogirls/\"},\n",
      "        {\"name\": \"장고 - Form/ModelForm 잘 알고 쓰기\", \"url\": \"https://nomade.kr/vod/form/\"},\n",
      "        {\"name\": \"장고 - 클래스 기반 뷰. 잘 알고 쓰기\", \"url\": \"https://nomade.kr/vod/cbv/\"},\n",
      "        {\"name\": \"장고 - 결제 시스템 연동\", \"url\": \"https://nomade.kr/vod/payment/\"},\n",
      "        {\"name\": \"장고 - 웹 프론트엔드 시작편\", \"url\": \"https://nomade.kr/vod/frontend/\"},\n",
      "        {\"name\": \"장고 - 다양한 위젯 만들기\", \"url\": \"https://nomade.kr/vod/widgets/\"},\n",
      "        {\"name\": \"장고 - API 서버 만들기 및 초간단 안드로이드 앱 만들기\", \"url\": \"https://nomade.kr/vod/apiserver/\"},\n",
      "        {\"name\": \"장고 - 하이브리드 앱 만들기\", \"url\": \"https://nomade.kr/vod/hybrid/\"},\n",
      "        {\"name\": \"장고 - 서비스 배포하기\", \"url\": \"https://nomade.kr/vod/deploy/\"},\n",
      "        {\"name\": \"장고 - 실전편 (Feat. 배달의 민족 St. 만들기)\", \"url\": \"https://nomade.kr/vod/django-baemin/\"},\n",
      "        {\"name\": \"장고 - 실전편 (Feat. 인스타그램 St. 만들기)\", \"url\": \"https://nomade.kr/vod/django-instagram/\"}\n",
      "    ]\n"
     ]
    }
   ],
   "source": [
    "matched = re.search(r'var courses = (.*?);', html,re.S)\n",
    "    # ?를 이용해 첫번째 세미콜론 까지만 출력\n",
    "    #group으로 모두 출력하는데 1번째줄부터 출력합니다.\n",
    "    #만약 (0)을 주면 첫째줄인 var courses = [도 출력될것입니다.\n",
    "print(matched.group(1))"
   ]
  },
  {
   "cell_type": "code",
   "execution_count": 35,
   "metadata": {},
   "outputs": [
    {
     "data": {
      "text/plain": [
       "[{'name': '개발환경 구축하기', 'url': 'https://nomade.kr/vod/setup/'},\n",
       " {'name': '파이썬 차근차근 시작하기', 'url': 'https://nomade.kr/vod/python/'},\n",
       " {'name': '크롤링 차근차근 시작하기', 'url': 'https://nomade.kr/vod/crawling/'},\n",
       " {'name': '파이썬으로 업무 자동화', 'url': 'https://nomade.kr/vod/automation/'},\n",
       " {'name': '장고 - 기본편', 'url': 'https://nomade.kr/vod/django/'},\n",
       " {'name': '장고걸스 튜토리얼', 'url': 'https://nomade.kr/vod/djangogirls/'},\n",
       " {'name': '장고 - Form/ModelForm 잘 알고 쓰기', 'url': 'https://nomade.kr/vod/form/'},\n",
       " {'name': '장고 - 클래스 기반 뷰. 잘 알고 쓰기', 'url': 'https://nomade.kr/vod/cbv/'},\n",
       " {'name': '장고 - 결제 시스템 연동', 'url': 'https://nomade.kr/vod/payment/'},\n",
       " {'name': '장고 - 웹 프론트엔드 시작편', 'url': 'https://nomade.kr/vod/frontend/'},\n",
       " {'name': '장고 - 다양한 위젯 만들기', 'url': 'https://nomade.kr/vod/widgets/'},\n",
       " {'name': '장고 - API 서버 만들기 및 초간단 안드로이드 앱 만들기',\n",
       "  'url': 'https://nomade.kr/vod/apiserver/'},\n",
       " {'name': '장고 - 하이브리드 앱 만들기', 'url': 'https://nomade.kr/vod/hybrid/'},\n",
       " {'name': '장고 - 서비스 배포하기', 'url': 'https://nomade.kr/vod/deploy/'},\n",
       " {'name': '장고 - 실전편 (Feat. 배달의 민족 St. 만들기)',\n",
       "  'url': 'https://nomade.kr/vod/django-baemin/'},\n",
       " {'name': '장고 - 실전편 (Feat. 인스타그램 St. 만들기)',\n",
       "  'url': 'https://nomade.kr/vod/django-instagram/'}]"
      ]
     },
     "execution_count": 35,
     "metadata": {},
     "output_type": "execute_result"
    }
   ],
   "source": [
    "json_string = matched.group(1)\n",
    "json.loads(json_string)"
   ]
  },
  {
   "cell_type": "code",
   "execution_count": 36,
   "metadata": {},
   "outputs": [
    {
     "name": "stdout",
     "output_type": "stream",
     "text": [
      "개발환경 구축하기 https://nomade.kr/vod/setup/\n",
      "파이썬 차근차근 시작하기 https://nomade.kr/vod/python/\n",
      "크롤링 차근차근 시작하기 https://nomade.kr/vod/crawling/\n",
      "파이썬으로 업무 자동화 https://nomade.kr/vod/automation/\n",
      "장고 - 기본편 https://nomade.kr/vod/django/\n",
      "장고걸스 튜토리얼 https://nomade.kr/vod/djangogirls/\n",
      "장고 - Form/ModelForm 잘 알고 쓰기 https://nomade.kr/vod/form/\n",
      "장고 - 클래스 기반 뷰. 잘 알고 쓰기 https://nomade.kr/vod/cbv/\n",
      "장고 - 결제 시스템 연동 https://nomade.kr/vod/payment/\n",
      "장고 - 웹 프론트엔드 시작편 https://nomade.kr/vod/frontend/\n",
      "장고 - 다양한 위젯 만들기 https://nomade.kr/vod/widgets/\n",
      "장고 - API 서버 만들기 및 초간단 안드로이드 앱 만들기 https://nomade.kr/vod/apiserver/\n",
      "장고 - 하이브리드 앱 만들기 https://nomade.kr/vod/hybrid/\n",
      "장고 - 서비스 배포하기 https://nomade.kr/vod/deploy/\n",
      "장고 - 실전편 (Feat. 배달의 민족 St. 만들기) https://nomade.kr/vod/django-baemin/\n",
      "장고 - 실전편 (Feat. 인스타그램 St. 만들기) https://nomade.kr/vod/django-instagram/\n"
     ]
    }
   ],
   "source": [
    "output_list = json.loads(json_string)\n",
    "for output in output_list:\n",
    "    print('{name} {url}'.format(**output))"
   ]
  },
  {
   "cell_type": "code",
   "execution_count": null,
   "metadata": {},
   "outputs": [],
   "source": []
  }
 ],
 "metadata": {
  "kernelspec": {
   "display_name": "Python 3",
   "language": "python",
   "name": "python3"
  },
  "language_info": {
   "codemirror_mode": {
    "name": "ipython",
    "version": 3
   },
   "file_extension": ".py",
   "mimetype": "text/x-python",
   "name": "python",
   "nbconvert_exporter": "python",
   "pygments_lexer": "ipython3",
   "version": "3.6.4"
  }
 },
 "nbformat": 4,
 "nbformat_minor": 2
}
