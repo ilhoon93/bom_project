{
 "cells": [
  {
   "cell_type": "code",
   "execution_count": 1,
   "metadata": {},
   "outputs": [],
   "source": [
    "import pandas as pd\n",
    "from pandas import Series, DataFrame\n",
    "import re\n",
    "import numpy as np\n",
    "from requests import get\n",
    "from bs4 import BeautifulSoup as bs\n",
    "from selenium import webdriver\n",
    "import time\n",
    "import pyautogui # 파이썬 매크로 모듈"
   ]
  },
  {
   "cell_type": "code",
   "execution_count": 2,
   "metadata": {},
   "outputs": [],
   "source": [
    "headers = {'User-Agent':'Mozilla/5.0 (Windows NT 10.0; Win64; x64)'}"
   ]
  },
  {
   "cell_type": "code",
   "execution_count": null,
   "metadata": {},
   "outputs": [],
   "source": [
    "chrome_path = 'C:/Users/Ilhoon/Desktop/dev_util/chromedriver_win32/chromedriver'\n",
    "driver = webdriver.Chrome(chrome_path)"
   ]
  },
  {
   "cell_type": "code",
   "execution_count": null,
   "metadata": {},
   "outputs": [],
   "source": [
    "# bb,파데,cc id 가져와서 쓰면됨\n",
    "\n",
    "df_glow_id # 리뷰 정보 긁을 제품들"
   ]
  },
  {
   "cell_type": "code",
   "execution_count": null,
   "metadata": {},
   "outputs": [],
   "source": [
    "# 글로우픽 제품 리뷰\n",
    "\n",
    "gl_product_id=[] # 제품 id\n",
    "gl_product_attribute=[] # 제품 속성\n",
    "gl_sales=[] # 판매처\n",
    "gl_product_desc=[] # 제품 설명\n",
    "gl_user_name=[] # 유저 이름\n",
    "gl_age=[] # 나이\n",
    "gl_skin_type=[] # 피부 타입\n",
    "gl_date=[] # 날짜\n",
    "gl_review=[] # 리뷰 텍스트"
   ]
  },
  {
   "cell_type": "code",
   "execution_count": null,
   "metadata": {},
   "outputs": [],
   "source": [
    "# 제품 별 리뷰 데이터 크롤링\n",
    "j=1\n",
    "for product in df_glow_id[\"product_id\"]:\n",
    "    \n",
    "    driver.get('http://glowpick.com/product/'+str(product)+'')\n",
    "    time.sleep(1)\n",
    "    print(j)\n",
    "    j+=1\n",
    "    for i in range(50):\n",
    "        screenWidth, screenHeight = pyautogui.size()\n",
    "        currentMouseX, currentMouseY = pyautogui.position()\n",
    "        pyautogui.moveTo(1910, 1008)\n",
    "        if i==30:\n",
    "            time.sleep(1)\n",
    "        pyautogui.click()\n",
    "\n",
    "    html = driver.page_source\n",
    "    soup = bs(html, 'html.parser')\n",
    "\n",
    "    for k in range(len(soup.select('section.section-list-item > ul.review-list-wrap > li'))):\n",
    "        # 제품 id \n",
    "        gl_product_id.append(product)\n",
    "        # 판매처\n",
    "        try:\n",
    "            gl_sales.append(soup.select('#gp-product-detail > div > ul.section-list-wrap.side-bottom > li.section-list-pdt.side-left > section > div > ul > li.sale > div > ul > li')[0].text)\n",
    "        except:\n",
    "            gl_sales.append(\"\")\n",
    "        # 제품 속성\n",
    "        product_attribute=[]\n",
    "        for j in range(len(soup.select('#gp-product-detail > div > ul.section-list-wrap.side-bottom > li.section-list-pdt.side-left > section > div > ul > li > ul > li'))):\n",
    "            product_attribute.append(soup.select('#gp-product-detail > div > ul.section-list-wrap.side-bottom > li.section-list-pdt.side-left > section > div > ul > li > ul > li')[j].text)\n",
    "        gl_product_attribute.append(\",\".join(product_attribute)) \n",
    "\n",
    "        # 제품 설명 (콤마로 구분) \n",
    "        gl_product_desc.append(re.sub(\"\\r+\",\",\",re.sub(\"\\n+\",\"\",soup.select('#gp-product-detail > div > ul.section-list-wrap.side-bottom > li.section-list-pdt.side-left > section > div > ul > li.desc > p')[0].text.strip())))\n",
    "        \n",
    "        # 피부타입\n",
    "        gl_skin_type.append(re.sub(\"·\",\"\",soup.select('section.section-list-item > ul.review-list-wrap > li > div > div > div > p > span.info > span.txt')[k].text[4:]).strip())\n",
    "        # 나이\n",
    "        gl_age.append(soup.select('section.section-list-item > ul.review-list-wrap > li > div > div > div > p > span.info > span.txt')[k].text[:3])\n",
    "        # 유저 이름\n",
    "        gl_user_name.append(soup.select('section.section-list-item > ul.review-list-wrap > li > div > div > div > p > span.name')[k].text)\n",
    "        # 리뷰 텍스트\n",
    "        gl_review.append(soup.select('section.section-list-item > ul.review-list-wrap > li > div > p')[k].text)\n",
    "        # 날짜 정보\n",
    "        gl_date.append(soup.select('section.section-list-item > ul.review-list-wrap > li > span.date')[k].text)"
   ]
  },
  {
   "cell_type": "code",
   "execution_count": null,
   "metadata": {},
   "outputs": [],
   "source": [
    "data={'product_id':gl_product_id,\n",
    "      'product_attribute':gl_product_attribute,\n",
    "     'sales':gl_sales,\n",
    "     'product_desc':gl_product_desc,\n",
    "     'user_name':gl_user_name,\n",
    "     'age':gl_age,\n",
    "     'skin_type':gl_skin_type,\n",
    "     'date':gl_date,\n",
    "     'review':gl_review}\n",
    "gl_review=DataFrame(data)\n",
    "gl_review=DataFrame(data, columns=['product_id','product_attribute','sales','product_desc','user_name','age','skin_type','date','review'])\n",
    "gl_review"
   ]
  },
  {
   "cell_type": "code",
   "execution_count": null,
   "metadata": {},
   "outputs": [],
   "source": [
    "gl_review.to_csv('gl_review.csv',encoding=\"UTF-8\")"
   ]
  }
 ],
 "metadata": {
  "kernelspec": {
   "display_name": "Python 3",
   "language": "python",
   "name": "python3"
  },
  "language_info": {
   "codemirror_mode": {
    "name": "ipython",
    "version": 3
   },
   "file_extension": ".py",
   "mimetype": "text/x-python",
   "name": "python",
   "nbconvert_exporter": "python",
   "pygments_lexer": "ipython3",
   "version": "3.6.4"
  }
 },
 "nbformat": 4,
 "nbformat_minor": 2
}
